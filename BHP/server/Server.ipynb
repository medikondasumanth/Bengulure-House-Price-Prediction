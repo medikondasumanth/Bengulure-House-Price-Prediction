{
 "cells": [
  {
   "cell_type": "code",
   "execution_count": null,
   "id": "4fbc4b0e",
   "metadata": {},
   "outputs": [
    {
     "name": "stdout",
     "output_type": "stream",
     "text": [
      "Starting Python Flask Server For Home Price Prediction...\n",
      "loading saved artifacts...start\n",
      "loading saved artifacts...done\n",
      " * Serving Flask app '__main__'\n",
      " * Debug mode: off\n"
     ]
    },
    {
     "name": "stderr",
     "output_type": "stream",
     "text": [
      "WARNING: This is a development server. Do not use it in a production deployment. Use a production WSGI server instead.\n",
      " * Running on http://127.0.0.1:5000\n",
      "Press CTRL+C to quit\n",
      "127.0.0.1 - - [03/Aug/2024 17:25:27] \"GET /get_location_names HTTP/1.1\" 200 -\n",
      "127.0.0.1 - - [03/Aug/2024 17:27:07] \"GET /get_location_names HTTP/1.1\" 200 -\n",
      "c:\\users\\hp\\appdata\\local\\programs\\python\\python38\\lib\\site-packages\\sklearn\\base.py:465: UserWarning: X does not have valid feature names, but LinearRegression was fitted with feature names\n",
      "  warnings.warn(\n",
      "127.0.0.1 - - [03/Aug/2024 17:27:26] \"POST /predict_home_price HTTP/1.1\" 200 -\n",
      "127.0.0.1 - - [03/Aug/2024 17:29:27] \"GET /get_estimated_price HTTP/1.1\" 404 -\n",
      "127.0.0.1 - - [03/Aug/2024 17:30:34] \"GET /predict_home_price HTTP/1.1\" 400 -\n",
      "127.0.0.1 - - [03/Aug/2024 17:30:44] \"GET /get_location_names HTTP/1.1\" 200 -\n",
      "127.0.0.1 - - [03/Aug/2024 17:30:56] \"GET /predict_home_price HTTP/1.1\" 400 -\n",
      "127.0.0.1 - - [03/Aug/2024 17:31:28] \"POST /predict_home_price HTTP/1.1\" 400 -\n",
      "127.0.0.1 - - [03/Aug/2024 17:32:16] \"POST /predict_home_price HTTP/1.1\" 400 -\n",
      "c:\\users\\hp\\appdata\\local\\programs\\python\\python38\\lib\\site-packages\\sklearn\\base.py:465: UserWarning: X does not have valid feature names, but LinearRegression was fitted with feature names\n",
      "  warnings.warn(\n",
      "127.0.0.1 - - [03/Aug/2024 17:34:23] \"POST /predict_home_price HTTP/1.1\" 200 -\n",
      "127.0.0.1 - - [03/Aug/2024 17:34:35] \"POST /predict_home_price HTTP/1.1\" 400 -\n",
      "127.0.0.1 - - [03/Aug/2024 17:35:04] \"GET /get_location_names HTTP/1.1\" 200 -\n",
      "127.0.0.1 - - [03/Aug/2024 17:35:09] \"GET /predict_home_price HTTP/1.1\" 400 -\n",
      "127.0.0.1 - - [03/Aug/2024 17:37:05] \"POST /predict_home_price HTTP/1.1\" 400 -\n",
      "127.0.0.1 - - [03/Aug/2024 17:37:32] \"POST /predict_home_price HTTP/1.1\" 400 -\n",
      "c:\\users\\hp\\appdata\\local\\programs\\python\\python38\\lib\\site-packages\\sklearn\\base.py:465: UserWarning: X does not have valid feature names, but LinearRegression was fitted with feature names\n",
      "  warnings.warn(\n",
      "127.0.0.1 - - [03/Aug/2024 17:38:44] \"POST /predict_home_price HTTP/1.1\" 200 -\n",
      "c:\\users\\hp\\appdata\\local\\programs\\python\\python38\\lib\\site-packages\\sklearn\\base.py:465: UserWarning: X does not have valid feature names, but LinearRegression was fitted with feature names\n",
      "  warnings.warn(\n",
      "127.0.0.1 - - [03/Aug/2024 17:38:50] \"POST /predict_home_price HTTP/1.1\" 200 -\n",
      "c:\\users\\hp\\appdata\\local\\programs\\python\\python38\\lib\\site-packages\\sklearn\\base.py:465: UserWarning: X does not have valid feature names, but LinearRegression was fitted with feature names\n",
      "  warnings.warn(\n",
      "127.0.0.1 - - [03/Aug/2024 17:38:56] \"POST /predict_home_price HTTP/1.1\" 200 -\n",
      "c:\\users\\hp\\appdata\\local\\programs\\python\\python38\\lib\\site-packages\\sklearn\\base.py:465: UserWarning: X does not have valid feature names, but LinearRegression was fitted with feature names\n",
      "  warnings.warn(\n",
      "127.0.0.1 - - [03/Aug/2024 17:38:59] \"POST /predict_home_price HTTP/1.1\" 200 -\n",
      "c:\\users\\hp\\appdata\\local\\programs\\python\\python38\\lib\\site-packages\\sklearn\\base.py:465: UserWarning: X does not have valid feature names, but LinearRegression was fitted with feature names\n",
      "  warnings.warn(\n",
      "127.0.0.1 - - [03/Aug/2024 17:39:10] \"POST /predict_home_price HTTP/1.1\" 200 -\n",
      "c:\\users\\hp\\appdata\\local\\programs\\python\\python38\\lib\\site-packages\\sklearn\\base.py:465: UserWarning: X does not have valid feature names, but LinearRegression was fitted with feature names\n",
      "  warnings.warn(\n",
      "127.0.0.1 - - [03/Aug/2024 17:39:22] \"POST /predict_home_price HTTP/1.1\" 200 -\n",
      "c:\\users\\hp\\appdata\\local\\programs\\python\\python38\\lib\\site-packages\\sklearn\\base.py:465: UserWarning: X does not have valid feature names, but LinearRegression was fitted with feature names\n",
      "  warnings.warn(\n",
      "127.0.0.1 - - [03/Aug/2024 17:39:26] \"POST /predict_home_price HTTP/1.1\" 200 -\n"
     ]
    }
   ],
   "source": [
    "from flask import Flask, request, jsonify\n",
    "import util\n",
    "\n",
    "app = Flask(__name__)\n",
    "\n",
    "@app.route('/get_location_names', methods=['GET'])\n",
    "def get_location_names():\n",
    "    response = jsonify({\n",
    "        'locations': util.get_location_names()\n",
    "    })\n",
    "    response.headers.add('Access-Control-Allow-Origin', '*')\n",
    "\n",
    "    return response\n",
    "\n",
    "@app.route('/predict_home_price', methods=['GET', 'POST'])\n",
    "def predict_home_price():\n",
    "    total_sqft = float(request.form['total_sqft'])\n",
    "    location = request.form['location']\n",
    "    bhk = int(request.form['bhk'])\n",
    "    bath = int(request.form['bath'])\n",
    "\n",
    "    response = jsonify({\n",
    "        'estimated_price': util.get_estimated_price(location,total_sqft,bhk,bath)\n",
    "    })\n",
    "    response.headers.add('Access-Control-Allow-Origin', '*')\n",
    "\n",
    "    return response\n",
    "\n",
    "if __name__ == \"__main__\":\n",
    "    print(\"Starting Python Flask Server For Home Price Prediction...\")\n",
    "    util.load_saved_artifacts()\n",
    "    app.run()"
   ]
  },
  {
   "cell_type": "code",
   "execution_count": null,
   "id": "ef6775a3-f32a-4efd-9f8b-9261a52cea52",
   "metadata": {},
   "outputs": [],
   "source": []
  }
 ],
 "metadata": {
  "kernelspec": {
   "display_name": "Python 3 (ipykernel)",
   "language": "python",
   "name": "python3"
  },
  "language_info": {
   "codemirror_mode": {
    "name": "ipython",
    "version": 3
   },
   "file_extension": ".py",
   "mimetype": "text/x-python",
   "name": "python",
   "nbconvert_exporter": "python",
   "pygments_lexer": "ipython3",
   "version": "3.8.6"
  }
 },
 "nbformat": 4,
 "nbformat_minor": 5
}
